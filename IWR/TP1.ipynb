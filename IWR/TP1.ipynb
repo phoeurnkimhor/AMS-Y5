{
 "cells": [
  {
   "cell_type": "code",
   "execution_count": 1,
   "id": "9708b336",
   "metadata": {},
   "outputs": [
    {
     "name": "stdout",
     "output_type": "stream",
     "text": [
      "{'name': 'clyde', 'cluster_name': 'elasticsearch', 'cluster_uuid': 'mRiFuCl_T8a6oxCPKugN4g', 'version': {'number': '9.1.5', 'build_flavor': 'default', 'build_type': 'deb', 'build_hash': '90ee222e7e0136dd8ddbb34015538f3a00c129b7', 'build_date': '2025-10-02T22:07:12.966975992Z', 'build_snapshot': False, 'lucene_version': '10.2.2', 'minimum_wire_compatibility_version': '8.19.0', 'minimum_index_compatibility_version': '8.0.0'}, 'tagline': 'You Know, for Search'}\n"
     ]
    }
   ],
   "source": [
    "from elasticsearch import Elasticsearch\n",
    "\n",
    "es = Elasticsearch(\n",
    "    \"https://localhost:9200\",\n",
    "    ca_certs=\"/home/kimhor/I5-AMS/IWR/http_ca.crt\",\n",
    "    basic_auth=(\"elastic\", \"gg=dnksEzsV=9C11G3bT\")\n",
    ")\n",
    "\n",
    "print(es.info())\n"
   ]
  },
  {
   "cell_type": "code",
   "execution_count": null,
   "id": "6f64d26d",
   "metadata": {},
   "outputs": [
    {
     "name": "stdout",
     "output_type": "stream",
     "text": [
      "ℹ️ Index 'products' already exists.\n"
     ]
    }
   ],
   "source": [
    "index_name = \"products\"\n",
    "\n",
    "if not es.indices.exists(index=index_name):\n",
    "    es.indices.create(index=index_name)\n",
    "    print(f\"✅ Index '{index_name}' created!\")\n",
    "else:\n",
    "    print(f\"ℹ️ Index '{index_name}' already exists.\")\n"
   ]
  },
  {
   "cell_type": "code",
   "execution_count": 3,
   "id": "73d3f767",
   "metadata": {},
   "outputs": [
    {
     "name": "stdout",
     "output_type": "stream",
     "text": [
      "✅ Document added with ID: v3RZ7ZkB33OQXGmQj481\n"
     ]
    }
   ],
   "source": [
    "doc = {\n",
    "    \"name\": \"Gaming Laptop\",\n",
    "    \"brand\": \"ASUS\",\n",
    "    \"price\": 1200,\n",
    "    \"in_stock\": True,\n",
    "    \"description\": \"A high-performance laptop for gaming and data science\"\n",
    "}\n",
    "\n",
    "res = es.index(index=index_name, document=doc)\n",
    "print(\"✅ Document added with ID:\", res[\"_id\"])\n"
   ]
  },
  {
   "cell_type": "code",
   "execution_count": 4,
   "id": "60e2d4e0",
   "metadata": {},
   "outputs": [
    {
     "name": "stdout",
     "output_type": "stream",
     "text": [
      "📄 Retrieved document: {'name': 'Gaming Laptop', 'brand': 'ASUS', 'price': 1200, 'in_stock': True, 'description': 'A high-performance laptop for gaming and data science'}\n"
     ]
    }
   ],
   "source": [
    "doc_id = res[\"_id\"]\n",
    "doc = es.get(index=index_name, id=doc_id)\n",
    "print(\"📄 Retrieved document:\", doc[\"_source\"])"
   ]
  },
  {
   "cell_type": "code",
   "execution_count": 5,
   "id": "c4b5eea9",
   "metadata": {},
   "outputs": [
    {
     "name": "stdout",
     "output_type": "stream",
     "text": [
      "🔍 Search results:\n",
      "{'name': 'Gaming Laptop', 'brand': 'ASUS', 'price': 1200, 'in_stock': True, 'description': 'A high-performance laptop for gaming and data science'}\n"
     ]
    }
   ],
   "source": [
    "query = {\n",
    "    \"query\": {\n",
    "        \"match\": {\n",
    "            \"description\": \"laptop\"\n",
    "        }\n",
    "    }\n",
    "}\n",
    "\n",
    "res = es.search(index=index_name, body=query)\n",
    "print(\"🔍 Search results:\")\n",
    "for hit in res[\"hits\"][\"hits\"]:\n",
    "    print(hit[\"_source\"])\n"
   ]
  }
 ],
 "metadata": {
  "kernelspec": {
   "display_name": "i5-ams",
   "language": "python",
   "name": "python3"
  },
  "language_info": {
   "codemirror_mode": {
    "name": "ipython",
    "version": 3
   },
   "file_extension": ".py",
   "mimetype": "text/x-python",
   "name": "python",
   "nbconvert_exporter": "python",
   "pygments_lexer": "ipython3",
   "version": "3.10.12"
  }
 },
 "nbformat": 4,
 "nbformat_minor": 5
}
